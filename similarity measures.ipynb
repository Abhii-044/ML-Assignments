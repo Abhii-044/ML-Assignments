{
 "cells": [
  {
   "cell_type": "code",
   "execution_count": 5,
   "id": "a555258b-700f-41d9-8f0e-38c8b70e8514",
   "metadata": {},
   "outputs": [],
   "source": [
    "import numpy as np\n",
    "from scipy.spatial.distance import cosine,euclidean\n",
    "from scipy.stats import pearsonr"
   ]
  },
  {
   "cell_type": "code",
   "execution_count": 7,
   "id": "89d57549-2be0-42b1-84f8-878e34b37c56",
   "metadata": {},
   "outputs": [],
   "source": [
    "user1 = np.array([4,5,2,3,4]) \n",
    "user2 = np.array([5,3,2,4,5])"
   ]
  },
  {
   "cell_type": "code",
   "execution_count": 9,
   "id": "a0302b94-35ba-4703-8d3f-b780938b9d87",
   "metadata": {},
   "outputs": [
    {
     "name": "stdout",
     "output_type": "stream",
     "text": [
      "cosine Similarity:  0.954763\n"
     ]
    }
   ],
   "source": [
    "cosine_similarity = 1 - cosine(user1,user2)\n",
    "print(f\"cosine Similarity: {cosine_similarity: 4f}\")\n"
   ]
  },
  {
   "cell_type": "code",
   "execution_count": 13,
   "id": "100064d1-b9e2-4a9d-8c47-3dc0361ac25c",
   "metadata": {},
   "outputs": [
    {
     "name": "stdout",
     "output_type": "stream",
     "text": [
      "Euclidean Distance Similarity :  0.2743\n"
     ]
    }
   ],
   "source": [
    "euclidean_distance = euclidean(user1,user2)\n",
    "euclidean_similarity = 1/(1 + euclidean_distance)\n",
    "print(f\"Euclidean Distance Similarity : {euclidean_similarity: .4f}\")"
   ]
  },
  {
   "cell_type": "code",
   "execution_count": 17,
   "id": "600d81a7-4b56-4a20-ac00-c90d75ec27db",
   "metadata": {},
   "outputs": [
    {
     "name": "stdout",
     "output_type": "stream",
     "text": [
      "         Bahubali  Mufasa  Interstellar  RRR  Mrs\n",
      "Raju            5       3             4    4    2\n",
      "John            3       1             2    3    3\n",
      "Ramya           4       3             4    5    1\n",
      "Kishore         2       2             1    2    4\n"
     ]
    }
   ],
   "source": [
    "import numpy as np\n",
    "import pandas as pd\n",
    "from scipy.spatial.distance import cosine, euclidean\n",
    "from scipy.stats import pearsonr\n",
    "ratings = np.array([\n",
    "    [5, 3, 4, 4, 2],\n",
    "    [3, 1, 2, 3, 3],\n",
    "    [4, 3, 4, 5, 1],\n",
    "    [2, 2, 1, 2, 4]\n",
    "])\n",
    "users = [\"Raju\", \"John\", \"Ramya\", \"Kishore\"]\n",
    "df = pd.DataFrame(ratings, index=users, columns=[\"Bahubali\",\"Mufasa\",\"Interstellar\",\"RRR\",\"Mrs\"])\n",
    "print(df)\n",
    "def compute_similarity(df):\n",
    "    num_users = df.shape[0]\n",
    "    similarity_results = []\n",
    "\n",
    "    for i in range(num_users):\n",
    "        for j in range(i + 1, num_users):\n",
    "            user1, user2 = df.iloc[i], df.iloc[j]\n",
    "            cos_sim = 1 - cosine(user1, user2)\n",
    "            pearson_sim, _ = pearsonr(user1, user2)\n",
    "            euc_dist = euclidean(user1, user2)\n",
    "            euc_sim = 1 / (1 + euc_dist)\n",
    "            similarity_results.append([users[i], users[j], cos_sim, pearson_sim, euc_sim])\n",
    "    return pd.DataFrame(similarity_results, columns=[\"User 1\", \"User 2\", \"Cosine Similarity\", \"Pearson Correlation\", \"Euclidean Similarity\"])\n",
    "similarity_df = compute_similarity(df)\n"
   ]
  },
  {
   "cell_type": "code",
   "execution_count": 19,
   "id": "ae814bed-0df4-453d-9ff2-91fd39e58908",
   "metadata": {},
   "outputs": [
    {
     "name": "stdout",
     "output_type": "stream",
     "text": [
      "         Bahubali  Mufasa  Interstellar  RRR  Mrs\n",
      "Raju            5       3             4    4    2\n",
      "John            3       1             2    3    3\n",
      "Ramya           4       3             4    5    1\n",
      "Kishore         2       2             1    2    4\n",
      "  User 1   User 2  Cosine Similarity  Pearson Correlation  \\\n",
      "0   Raju     John           0.929670             0.196116   \n",
      "1   Raju    Ramya           0.978337             0.838557   \n",
      "2   Raju  Kishore           0.799014            -0.720577   \n",
      "3   John    Ramya           0.885465             0.036860   \n",
      "4   John  Kishore           0.919145             0.408248   \n",
      "5  Ramya  Kishore           0.725961            -0.812605   \n",
      "\n",
      "   Euclidean Similarity  \n",
      "0              0.210897  \n",
      "1              0.366025  \n",
      "2              0.161390  \n",
      "3              0.195194  \n",
      "4              0.309017  \n",
      "5              0.150221  \n"
     ]
    }
   ],
   "source": [
    "import numpy as np\n",
    "import pandas as pd\n",
    "from scipy.spatial.distance import cosine, euclidean\n",
    "from scipy.stats import pearsonr\n",
    "ratings = np.array([\n",
    "    [5, 3, 4, 4, 2],\n",
    "    [3, 1, 2, 3, 3],\n",
    "    [4, 3, 4, 5, 1],\n",
    "    [2, 2, 1, 2, 4]\n",
    "])\n",
    "users = [\"Raju\", \"John\", \"Ramya\", \"Kishore\"]\n",
    "df = pd.DataFrame(ratings, index=users, columns=[\"Bahubali\",\"Mufasa\",\"Interstellar\",\"RRR\",\"Mrs\"])\n",
    "print(df)\n",
    "def compute_similarity(df):\n",
    "    num_users = df.shape[0]\n",
    "    similarity_results = []\n",
    "\n",
    "    for i in range(num_users):\n",
    "        for j in range(i + 1, num_users):\n",
    "            user1, user2 = df.iloc[i], df.iloc[j]\n",
    "            cos_sim = 1 - cosine(user1, user2)\n",
    "            pearson_sim, _ = pearsonr(user1, user2)\n",
    "            euc_dist = euclidean(user1, user2)\n",
    "            euc_sim = 1 / (1 + euc_dist)\n",
    "            similarity_results.append([users[i], users[j], cos_sim, pearson_sim, euc_sim])\n",
    "    return pd.DataFrame(similarity_results, columns=[\"User 1\", \"User 2\", \"Cosine Similarity\", \"Pearson Correlation\", \"Euclidean Similarity\"])\n",
    "similarity_df = compute_similarity(df)\n",
    "print(similarity_df)"
   ]
  },
  {
   "cell_type": "code",
   "execution_count": null,
   "id": "57b4464c-a79b-4555-ae79-dfb9846b1f9d",
   "metadata": {},
   "outputs": [],
   "source": []
  }
 ],
 "metadata": {
  "kernelspec": {
   "display_name": "Python [conda env:base] *",
   "language": "python",
   "name": "conda-base-py"
  },
  "language_info": {
   "codemirror_mode": {
    "name": "ipython",
    "version": 3
   },
   "file_extension": ".py",
   "mimetype": "text/x-python",
   "name": "python",
   "nbconvert_exporter": "python",
   "pygments_lexer": "ipython3",
   "version": "3.12.7"
  }
 },
 "nbformat": 4,
 "nbformat_minor": 5
}
